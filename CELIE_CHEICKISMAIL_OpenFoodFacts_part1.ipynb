{
 "cells": [
  {
   "cell_type": "markdown",
   "id": "903f220a",
   "metadata": {},
   "source": [
    "# Advanced Machine Learning for NLP and Text Processing\n",
    "## Project 1 : OpenFoodFacts"
   ]
  },
  {
   "cell_type": "markdown",
   "id": "0e9d2fa3",
   "metadata": {},
   "source": [
    "### Cleaning dataset"
   ]
  },
  {
   "cell_type": "code",
   "execution_count": 1,
   "id": "5ea9c500",
   "metadata": {},
   "outputs": [],
   "source": [
    "import warnings\n",
    "warnings.filterwarnings('ignore')"
   ]
  },
  {
   "cell_type": "code",
   "execution_count": 2,
   "id": "004229f8",
   "metadata": {},
   "outputs": [],
   "source": [
    "# Import libraries\n",
    "\n",
    "from deep_translator import GoogleTranslator\n",
    "from langdetect import detect\n",
    "import nltk\n",
    "from nltk.metrics import *\n",
    "from nltk.tokenize import RegexpTokenizer\n",
    "import pandas as pd\n",
    "import re\n",
    "from spellchecker import SpellChecker\n",
    "import time"
   ]
  },
  {
   "cell_type": "code",
   "execution_count": 3,
   "id": "a33cbd00",
   "metadata": {},
   "outputs": [
    {
     "name": "stderr",
     "output_type": "stream",
     "text": [
      "[nltk_data] Downloading package words to\n",
      "[nltk_data]     C:\\Users\\cheic\\AppData\\Roaming\\nltk_data...\n",
      "[nltk_data]   Package words is already up-to-date!\n"
     ]
    },
    {
     "data": {
      "text/plain": [
       "True"
      ]
     },
     "execution_count": 3,
     "metadata": {},
     "output_type": "execute_result"
    }
   ],
   "source": [
    "nltk.download('words')"
   ]
  },
  {
   "cell_type": "code",
   "execution_count": 4,
   "id": "39a637ef",
   "metadata": {},
   "outputs": [],
   "source": [
    "def load_sample(start_range=1, end_range=5, PATH='./datasets/'):\n",
    "    start = time.time()\n",
    "\n",
    "    splitted_datasets = []\n",
    "\n",
    "    for sample in range(start_range, end_range+1):\n",
    "        start_load = time.time()\n",
    "\n",
    "        dataset = pd.read_csv(\n",
    "            PATH + 'openfoodfacts_part' + str(sample)+'.csv',\n",
    "            sep='\\t')\n",
    "\n",
    "        end_load = time.time()\n",
    "\n",
    "        print(f'Sample {sample} : {end_load - start_load} sec.')\n",
    "\n",
    "        splitted_datasets.append(dataset)\n",
    "\n",
    "    end = time.time()\n",
    "\n",
    "    print('-'*20)\n",
    "    print(f'Load {end_range - start_range + 1} samples : {end - start} sec.')\n",
    "\n",
    "    return pd.concat(splitted_datasets)"
   ]
  },
  {
   "cell_type": "code",
   "execution_count": 5,
   "id": "7139829d",
   "metadata": {},
   "outputs": [],
   "source": [
    "def delete_empty_columns(dataset, rate=0.8):\n",
    "    columns_to_drop = ['Unnamed: 0', 'url', 'code', 'creator', 'created_t', 'created_datetime', 'last_modified_t',\n",
    "                       'last_modified_datetime', 'abbreviated_product_name', 'generic_name', 'packaging', \n",
    "                       'packaging_tags', 'packaging_text', 'brands', 'brands_tags', 'brand_owner', 'categories', 'categories_en', 'origins',\n",
    "                       'origins_en', 'manufacturing_places', 'labels', 'labels_en', 'emb_codes', 'emb_codes_tags', 'countries', 'countries_tags', 'countries_en',\n",
    "                       'first_packaging_code_geo', 'cities', 'purchase_places', 'stores', 'countries', 'countries_en', \n",
    "                       'traces', 'traces_en', 'allergens_en', 'serving_size', 'serving_quantity', 'additives', \n",
    "                       'additives_en', 'ingredients_from_palm_oil', 'ingredients_that_may_be_from_palm_oil', 'ingredients_from_palm_oil_n', 'ingredients_that_may_be_from_palm_oil_n', \n",
    "                       'states', 'states_tags', 'states_en', 'main_category_en', 'image_small_url', 'image_url', \n",
    "                       'image_ingredients_url', 'image_ingredients_small_url', 'image_nutrition_url', \n",
    "                       'image_nutrition_small_url']\n",
    "\n",
    "    for col in dataset.columns:\n",
    "        if dataset[col].isna().sum() / len(dataset) > rate:\n",
    "            columns_to_drop.append(col)\n",
    "\n",
    "    return delete_specific_columns(dataset, columns_to_drop=columns_to_drop)"
   ]
  },
  {
   "cell_type": "code",
   "execution_count": 6,
   "id": "fe3fcb1f",
   "metadata": {},
   "outputs": [],
   "source": [
    "def delete_specific_columns(dataset, columns_to_drop=[]):\n",
    "    columns_to_keep = ['product_name', 'categories_tags', 'ingredients_text', 'additives_tags',\n",
    "                       'nutriscore_score', 'nutriscore_grade', 'nova_group', 'pnns_groups_1',\n",
    "                       'pnns_groups_2', 'main_category', 'energy-kcal_100g', 'energy_100g',\n",
    "                       'fat_100g', 'saturated-fat_100g', 'carbohydrates_100g', 'sugars_100g', 'fiber_100g', 'proteins_100g',\n",
    "                       'salt_100g']\n",
    "    cols = []\n",
    "    for column in columns_to_drop:\n",
    "        if column in dataset.columns and column not in columns_to_keep:\n",
    "            cols.append(column)\n",
    "\n",
    "    print(f'Delete {len(cols)} columns.')\n",
    "\n",
    "    return dataset.drop(columns=cols)"
   ]
  },
  {
   "cell_type": "code",
   "execution_count": 7,
   "id": "c7be24bc",
   "metadata": {},
   "outputs": [],
   "source": [
    "def correct_enconding_characters(x):\n",
    "    x = x.replace('\\_', '')\n",
    "    x = x.replace('\\%', '')\n",
    "    x = x.replace('\\*', '')\n",
    "    \n",
    "    x = clean_ingredients_list(x)\n",
    "\n",
    "    x = x.lower()\n",
    "    x = x.strip()\n",
    "\n",
    "    x = x.replace('ã©', 'é')\n",
    "    x = x.replace('&quot;', '')\n",
    "    x = x.replace('cã¨', 'è')\n",
    "    x = x.replace('à¨', 'ê')\n",
    "    x = x.replace('ã', 'à')\n",
    "    x = x.replace('ã´', 'ô')\n",
    "    x = x.replace('à´', 'ô')\n",
    "    x = x.replace('à¢', 'â')\n",
    "    x = x.replace('à¯', 'ï')\n",
    "    x = x.replace('à®', 'î')\n",
    "    x = x.replace('å', 'oe')\n",
    "    x = x.replace('â', '\\'')\n",
    "\n",
    "    return x"
   ]
  },
  {
   "cell_type": "code",
   "execution_count": 8,
   "id": "be209f28",
   "metadata": {},
   "outputs": [],
   "source": [
    "def clean_ingredients_list(x):\n",
    "    # Delete additives as there is already an 'additive' column\n",
    "    # Delete vitamins as we are not going to use them\n",
    "    x = re.sub('(b|e){1}\\d*\\w', '', x)\n",
    "\n",
    "    # Delete quantities\n",
    "    x = re.sub('(\\d)+([a-zA-Z])+', '', x)\n",
    "\n",
    "    return x"
   ]
  },
  {
   "cell_type": "code",
   "execution_count": 9,
   "id": "4a9306e3",
   "metadata": {},
   "outputs": [
    {
     "name": "stdout",
     "output_type": "stream",
     "text": [
      "Sample 1 : 1.380401372909546 sec.\n",
      "--------------------\n",
      "Load 1 samples : 1.380401372909546 sec.\n",
      "Delete 184 columns.\n"
     ]
    }
   ],
   "source": [
    "dataset = load_sample(start_range=1, end_range=1)\n",
    "df = delete_empty_columns(dataset)"
   ]
  },
  {
   "cell_type": "code",
   "execution_count": 10,
   "id": "8e7d1021",
   "metadata": {},
   "outputs": [],
   "source": [
    "df = df.dropna(subset = ['ingredients_text'])"
   ]
  },
  {
   "cell_type": "code",
   "execution_count": 11,
   "id": "d5299581",
   "metadata": {},
   "outputs": [],
   "source": [
    "df['ingredients_text'] = df['ingredients_text'].apply(correct_enconding_characters)"
   ]
  },
  {
   "cell_type": "markdown",
   "id": "f1ad9c04",
   "metadata": {},
   "source": [
    "### Detect language"
   ]
  },
  {
   "cell_type": "code",
   "execution_count": 12,
   "id": "afb200f7",
   "metadata": {},
   "outputs": [],
   "source": [
    "def detect_language(x): \n",
    "    try: \n",
    "        return detect(x)\n",
    "    except : \n",
    "        return \"unknown\""
   ]
  },
  {
   "cell_type": "code",
   "execution_count": 13,
   "id": "bd3cb296",
   "metadata": {},
   "outputs": [
    {
     "name": "stdout",
     "output_type": "stream",
     "text": [
      "Detect language : 571.7479057312012 seconds...\n"
     ]
    }
   ],
   "source": [
    "start = time.time()\n",
    "df['language'] = df[\"ingredients_text\"].apply(detect_language)\n",
    "end = time.time()\n",
    "\n",
    "print(f'Detect language : {end - start} seconds...')"
   ]
  },
  {
   "cell_type": "code",
   "execution_count": 14,
   "id": "399e0eb4",
   "metadata": {},
   "outputs": [
    {
     "data": {
      "text/plain": [
       "array(['es', 'fr', 'ca', 'it', 'en', 'ro', 'pl', 'cy', 'id', 'tl', 'sv',\n",
       "       'sq', 'sw', 'hr', 'nl', 'pt', 'th', 'et', 'unknown', 'hu', 'da',\n",
       "       'de', 'sk', 'no', 'fi', 'lv', 'so', 'sl', 'tr', 'ru', 'lt', 'af',\n",
       "       'cs', 'vi', 'zh-tw', 'ar', 'bg', 'zh-cn'], dtype=object)"
      ]
     },
     "execution_count": 14,
     "metadata": {},
     "output_type": "execute_result"
    }
   ],
   "source": [
    "df['language'].unique()"
   ]
  },
  {
   "cell_type": "code",
   "execution_count": 15,
   "id": "fb9126de",
   "metadata": {},
   "outputs": [
    {
     "data": {
      "text/plain": [
       "8938"
      ]
     },
     "execution_count": 15,
     "metadata": {},
     "output_type": "execute_result"
    }
   ],
   "source": [
    "df.shape[0] - len(df[df['language'] == 'en'])"
   ]
  },
  {
   "cell_type": "code",
   "execution_count": 16,
   "id": "fda36186",
   "metadata": {},
   "outputs": [],
   "source": [
    "df_ingredients_en = df[df['language'] == 'en']"
   ]
  },
  {
   "cell_type": "code",
   "execution_count": 17,
   "id": "a184c00f",
   "metadata": {},
   "outputs": [
    {
     "data": {
      "text/plain": [
       "23.092623692029456"
      ]
     },
     "execution_count": 17,
     "metadata": {},
     "output_type": "execute_result"
    }
   ],
   "source": [
    "(1 - (df_ingredients_en.shape[0] / df.shape[0])) * 100"
   ]
  },
  {
   "cell_type": "markdown",
   "id": "ed117643",
   "metadata": {},
   "source": [
    "### Translate ingredients into English"
   ]
  },
  {
   "cell_type": "code",
   "execution_count": 18,
   "id": "e6c231f3",
   "metadata": {},
   "outputs": [],
   "source": [
    "# translator = GoogleTranslator(source='auto', target='en')"
   ]
  },
  {
   "cell_type": "code",
   "execution_count": 19,
   "id": "6074881d",
   "metadata": {},
   "outputs": [],
   "source": [
    "def translate(x): \n",
    "    try:\n",
    "        return translator.translate(x)\n",
    "    except: \n",
    "        return \"Cannot translate\""
   ]
  },
  {
   "cell_type": "code",
   "execution_count": 20,
   "id": "b0fa3f04",
   "metadata": {},
   "outputs": [],
   "source": [
    "# start = time.time()\n",
    "# for i, lang in enumerate(df['language']): \n",
    "#     if lang == 'en': \n",
    "#         df.at[i, 'ingredients_en'] = df['ingredients_text'].iloc[i]\n",
    "#     else : \n",
    "#         df.at[i, 'ingredients_en'] = translate(df['ingredients_text'].iloc[i])\n",
    "# end = time.time()\n",
    "\n",
    "# print(f'Translate ingredients : {end - start} seconds...')"
   ]
  },
  {
   "cell_type": "code",
   "execution_count": 21,
   "id": "3e197cf2",
   "metadata": {},
   "outputs": [],
   "source": [
    "# df.head(5)"
   ]
  },
  {
   "cell_type": "markdown",
   "id": "9dc7d129",
   "metadata": {},
   "source": [
    "### Tokenize ingredients"
   ]
  },
  {
   "cell_type": "code",
   "execution_count": 22,
   "id": "b7858d00",
   "metadata": {},
   "outputs": [],
   "source": [
    "tokenizer = RegexpTokenizer(\"[A-Za-z'%-]+\")\n",
    "df_ingredients_en[\"ingredients\"] = df_ingredients_en[\"ingredients_text\"].apply(lambda x : tokenizer.tokenize(x))"
   ]
  },
  {
   "cell_type": "code",
   "execution_count": 23,
   "id": "4fb32180",
   "metadata": {},
   "outputs": [
    {
     "ename": "KeyError",
     "evalue": "\"['ingredients_en'] not in index\"",
     "output_type": "error",
     "traceback": [
      "\u001b[1;31m---------------------------------------------------------------------------\u001b[0m",
      "\u001b[1;31mKeyError\u001b[0m                                  Traceback (most recent call last)",
      "\u001b[1;32m<ipython-input-23-327595c90536>\u001b[0m in \u001b[0;36m<module>\u001b[1;34m\u001b[0m\n\u001b[1;32m----> 1\u001b[1;33m \u001b[0mdf_ingredients_en\u001b[0m\u001b[1;33m[\u001b[0m\u001b[1;33m[\u001b[0m\u001b[1;34m'ingredients_text'\u001b[0m\u001b[1;33m,\u001b[0m \u001b[1;34m'ingredients'\u001b[0m\u001b[1;33m,\u001b[0m \u001b[1;34m'ingredients_en'\u001b[0m\u001b[1;33m]\u001b[0m\u001b[1;33m]\u001b[0m\u001b[1;33m\u001b[0m\u001b[1;33m\u001b[0m\u001b[0m\n\u001b[0m",
      "\u001b[1;32md:\\programs\\python\\python38\\lib\\site-packages\\pandas\\core\\frame.py\u001b[0m in \u001b[0;36m__getitem__\u001b[1;34m(self, key)\u001b[0m\n\u001b[0;32m   3462\u001b[0m             \u001b[1;32mif\u001b[0m \u001b[0mis_iterator\u001b[0m\u001b[1;33m(\u001b[0m\u001b[0mkey\u001b[0m\u001b[1;33m)\u001b[0m\u001b[1;33m:\u001b[0m\u001b[1;33m\u001b[0m\u001b[1;33m\u001b[0m\u001b[0m\n\u001b[0;32m   3463\u001b[0m                 \u001b[0mkey\u001b[0m \u001b[1;33m=\u001b[0m \u001b[0mlist\u001b[0m\u001b[1;33m(\u001b[0m\u001b[0mkey\u001b[0m\u001b[1;33m)\u001b[0m\u001b[1;33m\u001b[0m\u001b[1;33m\u001b[0m\u001b[0m\n\u001b[1;32m-> 3464\u001b[1;33m             \u001b[0mindexer\u001b[0m \u001b[1;33m=\u001b[0m \u001b[0mself\u001b[0m\u001b[1;33m.\u001b[0m\u001b[0mloc\u001b[0m\u001b[1;33m.\u001b[0m\u001b[0m_get_listlike_indexer\u001b[0m\u001b[1;33m(\u001b[0m\u001b[0mkey\u001b[0m\u001b[1;33m,\u001b[0m \u001b[0maxis\u001b[0m\u001b[1;33m=\u001b[0m\u001b[1;36m1\u001b[0m\u001b[1;33m)\u001b[0m\u001b[1;33m[\u001b[0m\u001b[1;36m1\u001b[0m\u001b[1;33m]\u001b[0m\u001b[1;33m\u001b[0m\u001b[1;33m\u001b[0m\u001b[0m\n\u001b[0m\u001b[0;32m   3465\u001b[0m \u001b[1;33m\u001b[0m\u001b[0m\n\u001b[0;32m   3466\u001b[0m         \u001b[1;31m# take() does not accept boolean indexers\u001b[0m\u001b[1;33m\u001b[0m\u001b[1;33m\u001b[0m\u001b[1;33m\u001b[0m\u001b[0m\n",
      "\u001b[1;32md:\\programs\\python\\python38\\lib\\site-packages\\pandas\\core\\indexing.py\u001b[0m in \u001b[0;36m_get_listlike_indexer\u001b[1;34m(self, key, axis)\u001b[0m\n\u001b[0;32m   1312\u001b[0m             \u001b[0mkeyarr\u001b[0m\u001b[1;33m,\u001b[0m \u001b[0mindexer\u001b[0m\u001b[1;33m,\u001b[0m \u001b[0mnew_indexer\u001b[0m \u001b[1;33m=\u001b[0m \u001b[0max\u001b[0m\u001b[1;33m.\u001b[0m\u001b[0m_reindex_non_unique\u001b[0m\u001b[1;33m(\u001b[0m\u001b[0mkeyarr\u001b[0m\u001b[1;33m)\u001b[0m\u001b[1;33m\u001b[0m\u001b[1;33m\u001b[0m\u001b[0m\n\u001b[0;32m   1313\u001b[0m \u001b[1;33m\u001b[0m\u001b[0m\n\u001b[1;32m-> 1314\u001b[1;33m         \u001b[0mself\u001b[0m\u001b[1;33m.\u001b[0m\u001b[0m_validate_read_indexer\u001b[0m\u001b[1;33m(\u001b[0m\u001b[0mkeyarr\u001b[0m\u001b[1;33m,\u001b[0m \u001b[0mindexer\u001b[0m\u001b[1;33m,\u001b[0m \u001b[0maxis\u001b[0m\u001b[1;33m)\u001b[0m\u001b[1;33m\u001b[0m\u001b[1;33m\u001b[0m\u001b[0m\n\u001b[0m\u001b[0;32m   1315\u001b[0m \u001b[1;33m\u001b[0m\u001b[0m\n\u001b[0;32m   1316\u001b[0m         if needs_i8_conversion(ax.dtype) or isinstance(\n",
      "\u001b[1;32md:\\programs\\python\\python38\\lib\\site-packages\\pandas\\core\\indexing.py\u001b[0m in \u001b[0;36m_validate_read_indexer\u001b[1;34m(self, key, indexer, axis)\u001b[0m\n\u001b[0;32m   1375\u001b[0m \u001b[1;33m\u001b[0m\u001b[0m\n\u001b[0;32m   1376\u001b[0m             \u001b[0mnot_found\u001b[0m \u001b[1;33m=\u001b[0m \u001b[0mlist\u001b[0m\u001b[1;33m(\u001b[0m\u001b[0mensure_index\u001b[0m\u001b[1;33m(\u001b[0m\u001b[0mkey\u001b[0m\u001b[1;33m)\u001b[0m\u001b[1;33m[\u001b[0m\u001b[0mmissing_mask\u001b[0m\u001b[1;33m.\u001b[0m\u001b[0mnonzero\u001b[0m\u001b[1;33m(\u001b[0m\u001b[1;33m)\u001b[0m\u001b[1;33m[\u001b[0m\u001b[1;36m0\u001b[0m\u001b[1;33m]\u001b[0m\u001b[1;33m]\u001b[0m\u001b[1;33m.\u001b[0m\u001b[0munique\u001b[0m\u001b[1;33m(\u001b[0m\u001b[1;33m)\u001b[0m\u001b[1;33m)\u001b[0m\u001b[1;33m\u001b[0m\u001b[1;33m\u001b[0m\u001b[0m\n\u001b[1;32m-> 1377\u001b[1;33m             \u001b[1;32mraise\u001b[0m \u001b[0mKeyError\u001b[0m\u001b[1;33m(\u001b[0m\u001b[1;34mf\"{not_found} not in index\"\u001b[0m\u001b[1;33m)\u001b[0m\u001b[1;33m\u001b[0m\u001b[1;33m\u001b[0m\u001b[0m\n\u001b[0m\u001b[0;32m   1378\u001b[0m \u001b[1;33m\u001b[0m\u001b[0m\n\u001b[0;32m   1379\u001b[0m \u001b[1;33m\u001b[0m\u001b[0m\n",
      "\u001b[1;31mKeyError\u001b[0m: \"['ingredients_en'] not in index\""
     ]
    }
   ],
   "source": [
    "df_ingredients_en[['ingredients_text', 'ingredients', 'ingredients_en']]"
   ]
  }
 ],
 "metadata": {
  "kernelspec": {
   "display_name": "Python 3",
   "language": "python",
   "name": "python3"
  },
  "language_info": {
   "codemirror_mode": {
    "name": "ipython",
    "version": 3
   },
   "file_extension": ".py",
   "mimetype": "text/x-python",
   "name": "python",
   "nbconvert_exporter": "python",
   "pygments_lexer": "ipython3",
   "version": "3.8.0"
  }
 },
 "nbformat": 4,
 "nbformat_minor": 5
}
