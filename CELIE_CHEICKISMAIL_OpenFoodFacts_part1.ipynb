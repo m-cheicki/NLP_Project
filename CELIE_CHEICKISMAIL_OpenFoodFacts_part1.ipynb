{
 "cells": [
  {
   "cell_type": "markdown",
   "id": "903f220a",
   "metadata": {},
   "source": [
    "# Advanced Machine Learning for NLP and Text Processing\n",
    "## Project 1 : OpenFoodFacts"
   ]
  },
  {
   "cell_type": "markdown",
   "id": "12b86280",
   "metadata": {},
   "source": [
    "### Cleaning dataset"
   ]
  },
  {
   "cell_type": "code",
   "execution_count": 1,
   "id": "5a76733e",
   "metadata": {},
   "outputs": [],
   "source": [
    "import warnings\n",
    "warnings.filterwarnings('ignore')"
   ]
  },
  {
   "cell_type": "code",
   "execution_count": 2,
   "id": "004229f8",
   "metadata": {},
   "outputs": [],
   "source": [
    "# Import libraries\n",
    "\n",
    "import pandas as pd\n",
    "import re\n",
    "import time"
   ]
  },
  {
   "cell_type": "code",
   "execution_count": 3,
   "id": "2e35bd30",
   "metadata": {},
   "outputs": [],
   "source": [
    "def load_sample(PATH='./datasets/', start_range=1, end_range=5):\n",
    "    start = time.time()\n",
    "\n",
    "    splitted_datasets = []\n",
    "\n",
    "    for sample in range(start_range, end_range+1):\n",
    "        start_load = time.time()\n",
    "\n",
    "        dataset = pd.read_csv(\n",
    "            PATH + 'openfoodfacts_part' + str(sample)+'.csv',\n",
    "            sep='\\t')\n",
    "\n",
    "        end_load = time.time()\n",
    "\n",
    "        print(f'Sample {sample} : {end_load - start_load} sec.')\n",
    "\n",
    "        splitted_datasets.append(dataset)\n",
    "\n",
    "    end = time.time()\n",
    "\n",
    "    print('-'*20)\n",
    "    print(f'Load {end_range - start_range + 1} samples : {end - start} sec.')\n",
    "\n",
    "    return pd.concat(splitted_datasets)"
   ]
  },
  {
   "cell_type": "code",
   "execution_count": 4,
   "id": "1523fc53",
   "metadata": {},
   "outputs": [],
   "source": [
    "def delete_empty_columns(dataset, rate=0.8):\n",
    "    columns_to_drop = ['Unnamed: 0', 'url', 'code', 'creator', 'created_t', 'created_datetime', 'last_modified_t',\n",
    "                       'last_modified_datetime', 'abbreviated_product_name', 'generic_name', 'packaging', \n",
    "                       'packaging_tags', 'packaging_text', 'brands', 'brands_tags', 'brand_owner', 'categories', 'categories_en', 'origins',\n",
    "                       'origins_en', 'manufacturing_places', 'labels', 'labels_en', 'emb_codes', 'emb_codes_tags', 'countries', 'countries_tags', 'countries_en',\n",
    "                       'first_packaging_code_geo', 'cities', 'purchase_places', 'stores', 'countries', 'countries_en', \n",
    "                       'traces', 'traces_en', 'allergens_en', 'serving_size', 'serving_quantity', 'additives', \n",
    "                       'additives_en', 'ingredients_from_palm_oil', 'ingredients_that_may_be_from_palm_oil', 'ingredients_from_palm_oil_n', 'ingredients_that_may_be_from_palm_oil_n', \n",
    "                       'states', 'states_tags', 'states_en', 'main_category_en', 'image_small_url', 'image_url', \n",
    "                       'image_ingredients_url', 'image_ingredients_small_url', 'image_nutrition_url', \n",
    "                       'image_nutrition_small_url']\n",
    "\n",
    "    for col in dataset.columns:\n",
    "        if dataset[col].isna().sum() / len(dataset) > rate:\n",
    "            columns_to_drop.append(col)\n",
    "\n",
    "    return delete_specific_columns(dataset, columns_to_drop=columns_to_drop)"
   ]
  },
  {
   "cell_type": "code",
   "execution_count": 16,
   "id": "01d4fa64",
   "metadata": {},
   "outputs": [],
   "source": [
    "def delete_specific_columns(dataset, columns_to_drop=[]):\n",
    "    columns_to_keep = ['product_name', 'categories_tags', 'ingredients_text', 'additives_tags',\n",
    "                       'nutriscore_score', 'nutriscore_grade', 'nova_group', 'pnns_groups_1',\n",
    "                       'pnns_groups_2', 'main_category', 'energy-kcal_100g', 'energy_100g',\n",
    "                       'fat_100g', 'saturated-fat_100g', 'carbohydrates_100g', 'sugars_100g', 'fiber_100g', 'proteins_100g',\n",
    "                       'salt_100g']\n",
    "    cols = []\n",
    "    for column in columns_to_drop:\n",
    "        if column in dataset.columns and column not in columns_to_keep:\n",
    "            cols.append(column)\n",
    "\n",
    "    print(f'Delete {len(cols)} columns.')\n",
    "\n",
    "    return dataset.drop(columns=cols)"
   ]
  },
  {
   "cell_type": "code",
   "execution_count": 37,
   "id": "cda75c90",
   "metadata": {},
   "outputs": [],
   "source": [
    "def correct_enconding_characters(x):\n",
    "    x = x.replace('\\_', '')\n",
    "    x = x.replace('\\%', '')\n",
    "    x = x.replace('\\*', '')\n",
    "    \n",
    "    x = clean_ingredients_list(x)\n",
    "\n",
    "    x = x.lower()\n",
    "    x = x.strip()\n",
    "\n",
    "    x = x.replace('ã©', 'é')\n",
    "    x = x.replace('&quot;', '')\n",
    "    x = x.replace('cã¨', 'è')\n",
    "    x = x.replace('à¨', 'ê')\n",
    "    x = x.replace('ã', 'à')\n",
    "    x = x.replace('ã´', 'ô')\n",
    "    x = x.replace('à´', 'ô')\n",
    "    x = x.replace('à¢', 'â')\n",
    "    x = x.replace('à¯', 'ï')\n",
    "    x = x.replace('à®', 'î')\n",
    "    x = x.replace('å', 'oe')\n",
    "    x = x.replace('â', '\\'')\n",
    "\n",
    "    return x"
   ]
  },
  {
   "cell_type": "code",
   "execution_count": 26,
   "id": "160d3de7",
   "metadata": {},
   "outputs": [],
   "source": [
    "def clean_ingredients_list(x):\n",
    "    # Delete additives as there is already an 'additive' column\n",
    "    # Delete vitamins as we are not going to use them\n",
    "    x = re.sub('(b|e){1}\\d*\\w', '', x)\n",
    "\n",
    "    # Delete quantities\n",
    "    x = re.sub('(\\d)+([a-zA-Z])+', '', x)\n",
    "\n",
    "    return x"
   ]
  },
  {
   "cell_type": "code",
   "execution_count": 33,
   "id": "9998f937",
   "metadata": {},
   "outputs": [
    {
     "name": "stdout",
     "output_type": "stream",
     "text": [
      "Sample 1 : 1.4254016876220703 sec.\n",
      "Sample 2 : 1.2751152515411377 sec.\n",
      "Sample 3 : 1.2862586975097656 sec.\n",
      "Sample 4 : 1.3162758350372314 sec.\n",
      "Sample 5 : 1.2782299518585205 sec.\n",
      "--------------------\n",
      "Load 5 samples : 6.582278728485107 sec.\n",
      "Delete 184 columns.\n"
     ]
    }
   ],
   "source": [
    "dataset = load_sample()\n",
    "df = delete_empty_columns(dataset)"
   ]
  },
  {
   "cell_type": "code",
   "execution_count": 35,
   "id": "8875d017",
   "metadata": {},
   "outputs": [],
   "source": [
    "df = df.dropna(subset = ['ingredients_text'])"
   ]
  },
  {
   "cell_type": "code",
   "execution_count": 38,
   "id": "1c538b26",
   "metadata": {},
   "outputs": [],
   "source": [
    "df['ingredients_text'] = df['ingredients_text'].apply(correct_enconding_characters)"
   ]
  },
  {
   "cell_type": "code",
   "execution_count": 43,
   "id": "df3f97e4",
   "metadata": {},
   "outputs": [
    {
     "data": {
      "text/plain": [
       "1        lhe sidnatada, azucar 6.9 lhe dnatada  polva, ...\n",
       "6        u grain de tégumts de moutarde vinaigre de vin...\n",
       "25       antioxydant : érythorte de sodium, colorant : ...\n",
       "33       lait ti, sucre, amidon de maïs, cacao, agar agar.\n",
       "41       gute poite vin pain gute 50,6: farine de é, u,...\n",
       "                               ...                        \n",
       "49995    syrup d (high fructose corn syrup, corn syrup,...\n",
       "49996    sugar, corn syrup, pnuts, sodium carnate, salt...\n",
       "49997    sugar, corn syrup, pans, palm oil, salt, sorto...\n",
       "49998    sugar, rich wht flour (wht starch, niacin, ruc...\n",
       "49999    sugar, rich wht flour (wht flour, niacin, ruc ...\n",
       "Name: ingredients_text, Length: 186346, dtype: object"
      ]
     },
     "execution_count": 43,
     "metadata": {},
     "output_type": "execute_result"
    }
   ],
   "source": []
  },
  {
   "cell_type": "code",
   "execution_count": null,
   "id": "3cbb39bd",
   "metadata": {},
   "outputs": [],
   "source": []
  },
  {
   "cell_type": "code",
   "execution_count": null,
   "id": "5edeb6cd",
   "metadata": {},
   "outputs": [],
   "source": []
  },
  {
   "cell_type": "code",
   "execution_count": null,
   "id": "56861369",
   "metadata": {},
   "outputs": [],
   "source": []
  },
  {
   "cell_type": "code",
   "execution_count": null,
   "id": "0655e821",
   "metadata": {},
   "outputs": [],
   "source": []
  },
  {
   "cell_type": "code",
   "execution_count": null,
   "id": "f4b2e0ff",
   "metadata": {},
   "outputs": [],
   "source": []
  },
  {
   "cell_type": "code",
   "execution_count": null,
   "id": "42282235",
   "metadata": {},
   "outputs": [],
   "source": []
  },
  {
   "cell_type": "code",
   "execution_count": null,
   "id": "d800e4f1",
   "metadata": {},
   "outputs": [],
   "source": []
  },
  {
   "cell_type": "code",
   "execution_count": null,
   "id": "5186a87d",
   "metadata": {},
   "outputs": [],
   "source": []
  },
  {
   "cell_type": "code",
   "execution_count": null,
   "id": "29e79396",
   "metadata": {},
   "outputs": [],
   "source": []
  },
  {
   "cell_type": "code",
   "execution_count": null,
   "id": "7da5e476",
   "metadata": {},
   "outputs": [],
   "source": []
  },
  {
   "cell_type": "code",
   "execution_count": null,
   "id": "8362e571",
   "metadata": {},
   "outputs": [],
   "source": []
  },
  {
   "cell_type": "code",
   "execution_count": null,
   "id": "ff114d18",
   "metadata": {},
   "outputs": [],
   "source": []
  },
  {
   "cell_type": "code",
   "execution_count": null,
   "id": "bab20047",
   "metadata": {},
   "outputs": [],
   "source": []
  },
  {
   "cell_type": "code",
   "execution_count": null,
   "id": "be164fe6",
   "metadata": {},
   "outputs": [],
   "source": []
  },
  {
   "cell_type": "code",
   "execution_count": null,
   "id": "516042e2",
   "metadata": {},
   "outputs": [],
   "source": []
  },
  {
   "cell_type": "code",
   "execution_count": null,
   "id": "526266e8",
   "metadata": {},
   "outputs": [],
   "source": []
  },
  {
   "cell_type": "code",
   "execution_count": null,
   "id": "593bffa2",
   "metadata": {},
   "outputs": [],
   "source": []
  },
  {
   "cell_type": "code",
   "execution_count": null,
   "id": "2cf9dacc",
   "metadata": {},
   "outputs": [],
   "source": []
  },
  {
   "cell_type": "code",
   "execution_count": null,
   "id": "a0a7c196",
   "metadata": {},
   "outputs": [],
   "source": []
  },
  {
   "cell_type": "code",
   "execution_count": null,
   "id": "2bbaad92",
   "metadata": {},
   "outputs": [],
   "source": []
  },
  {
   "cell_type": "code",
   "execution_count": null,
   "id": "f0e524ba",
   "metadata": {},
   "outputs": [],
   "source": []
  },
  {
   "cell_type": "code",
   "execution_count": null,
   "id": "0051c157",
   "metadata": {},
   "outputs": [],
   "source": []
  },
  {
   "cell_type": "code",
   "execution_count": null,
   "id": "0f63c206",
   "metadata": {},
   "outputs": [],
   "source": []
  },
  {
   "cell_type": "code",
   "execution_count": null,
   "id": "66cc4d97",
   "metadata": {},
   "outputs": [],
   "source": []
  },
  {
   "cell_type": "code",
   "execution_count": null,
   "id": "1bc32ba5",
   "metadata": {},
   "outputs": [],
   "source": []
  },
  {
   "cell_type": "code",
   "execution_count": null,
   "id": "bc41cedb",
   "metadata": {},
   "outputs": [],
   "source": []
  },
  {
   "cell_type": "code",
   "execution_count": null,
   "id": "2866de40",
   "metadata": {},
   "outputs": [],
   "source": []
  },
  {
   "cell_type": "code",
   "execution_count": null,
   "id": "9552b7fd",
   "metadata": {},
   "outputs": [],
   "source": []
  },
  {
   "cell_type": "code",
   "execution_count": null,
   "id": "fffd9e5c",
   "metadata": {},
   "outputs": [],
   "source": []
  },
  {
   "cell_type": "code",
   "execution_count": null,
   "id": "e5eb3fd2",
   "metadata": {},
   "outputs": [],
   "source": []
  },
  {
   "cell_type": "code",
   "execution_count": null,
   "id": "d03ab223",
   "metadata": {},
   "outputs": [],
   "source": []
  },
  {
   "cell_type": "code",
   "execution_count": null,
   "id": "a5fe3073",
   "metadata": {},
   "outputs": [],
   "source": []
  },
  {
   "cell_type": "code",
   "execution_count": null,
   "id": "b95a8c8c",
   "metadata": {},
   "outputs": [],
   "source": []
  },
  {
   "cell_type": "code",
   "execution_count": null,
   "id": "59ecd934",
   "metadata": {},
   "outputs": [],
   "source": []
  },
  {
   "cell_type": "code",
   "execution_count": null,
   "id": "c201f649",
   "metadata": {},
   "outputs": [],
   "source": []
  },
  {
   "cell_type": "code",
   "execution_count": null,
   "id": "c3c5a61f",
   "metadata": {},
   "outputs": [],
   "source": []
  },
  {
   "cell_type": "code",
   "execution_count": null,
   "id": "a6489b6c",
   "metadata": {},
   "outputs": [],
   "source": []
  },
  {
   "cell_type": "code",
   "execution_count": null,
   "id": "ffb57cf5",
   "metadata": {},
   "outputs": [],
   "source": []
  },
  {
   "cell_type": "code",
   "execution_count": null,
   "id": "6712d192",
   "metadata": {},
   "outputs": [],
   "source": []
  },
  {
   "cell_type": "code",
   "execution_count": null,
   "id": "de8f0dc4",
   "metadata": {},
   "outputs": [],
   "source": []
  },
  {
   "cell_type": "code",
   "execution_count": null,
   "id": "91323f17",
   "metadata": {},
   "outputs": [],
   "source": []
  },
  {
   "cell_type": "code",
   "execution_count": null,
   "id": "9ea4802b",
   "metadata": {},
   "outputs": [],
   "source": []
  },
  {
   "cell_type": "code",
   "execution_count": null,
   "id": "4fde4916",
   "metadata": {},
   "outputs": [],
   "source": []
  },
  {
   "cell_type": "code",
   "execution_count": null,
   "id": "de5fd929",
   "metadata": {},
   "outputs": [],
   "source": []
  },
  {
   "cell_type": "code",
   "execution_count": null,
   "id": "7fe59925",
   "metadata": {},
   "outputs": [],
   "source": []
  },
  {
   "cell_type": "code",
   "execution_count": 12,
   "id": "c099d5da",
   "metadata": {
    "scrolled": false
   },
   "outputs": [
    {
     "data": {
      "text/plain": [
       "Unnamed: 0                 0\n",
       "code                       0\n",
       "url                        0\n",
       "creator                    0\n",
       "created_t                  0\n",
       "                       ...  \n",
       "choline_100g          249999\n",
       "phylloquinone_100g    249310\n",
       "beta-glucan_100g      250000\n",
       "inositol_100g         249992\n",
       "carnitine_100g        250000\n",
       "Length: 187, dtype: int64"
      ]
     },
     "execution_count": 12,
     "metadata": {},
     "output_type": "execute_result"
    }
   ],
   "source": [
    "dataset.isna().sum()"
   ]
  },
  {
   "cell_type": "code",
   "execution_count": 13,
   "id": "9b979895",
   "metadata": {},
   "outputs": [
    {
     "data": {
      "text/plain": [
       "array(['unknown', 'Fat and sauces', 'Composite foods', 'Sugary snacks',\n",
       "       'Fruits and vegetables', 'Fish Meat Eggs', 'Beverages',\n",
       "       'Milk and dairy products', 'Cereals and potatoes', 'Salty snacks',\n",
       "       'Alcoholic beverages', nan], dtype=object)"
      ]
     },
     "execution_count": 13,
     "metadata": {},
     "output_type": "execute_result"
    }
   ],
   "source": [
    "# TODO : pnns_groups_1  repartition\n",
    "\n",
    "df['pnns_groups_1'].unique()"
   ]
  },
  {
   "cell_type": "code",
   "execution_count": 14,
   "id": "d434c2e3",
   "metadata": {},
   "outputs": [
    {
     "data": {
      "text/plain": [
       "array(['unknown', 'Dressings and sauces', 'One-dish meals',\n",
       "       'Biscuits and cakes', 'Fruits', 'Meat', 'Sweetened beverages',\n",
       "       'Cheese', 'Bread', 'Fish and seafood', 'Sweets',\n",
       "       'Salty and fatty products', 'Fruit juices', 'Dried fruits',\n",
       "       'Vegetables', 'Fats', 'Dairy desserts', 'Milk and yogurt',\n",
       "       'Pastries', 'Pizza pies and quiches', 'Legumes',\n",
       "       'Unsweetened beverages', 'Nuts', 'Cereals', 'Alcoholic beverages',\n",
       "       'Breakfast cereals', 'Appetizers', 'Processed meat',\n",
       "       'Chocolate products', 'Eggs', 'Plant-based milk substitutes',\n",
       "       'Sandwiches', 'Ice cream', 'Soups',\n",
       "       'Teas and herbal teas and coffees', 'Potatoes',\n",
       "       'Artificially sweetened beverages', 'Waters and flavored waters',\n",
       "       nan, 'Offals', 'Fruit nectars'], dtype=object)"
      ]
     },
     "execution_count": 14,
     "metadata": {},
     "output_type": "execute_result"
    }
   ],
   "source": [
    "# TODO : pnns_groups_2 repartition\n",
    "\n",
    "df['pnns_groups_2'].unique()"
   ]
  },
  {
   "cell_type": "code",
   "execution_count": 15,
   "id": "4b6e40f8",
   "metadata": {},
   "outputs": [
    {
     "data": {
      "text/plain": [
       "array([nan, 'd', 'b', 'a', 'c', 'e'], dtype=object)"
      ]
     },
     "execution_count": 15,
     "metadata": {},
     "output_type": "execute_result"
    }
   ],
   "source": [
    "# TODO : nutriscore repartition\n",
    "\n",
    "df['nutriscore_grade'].unique()"
   ]
  }
 ],
 "metadata": {
  "kernelspec": {
   "display_name": "Python 3",
   "language": "python",
   "name": "python3"
  },
  "language_info": {
   "codemirror_mode": {
    "name": "ipython",
    "version": 3
   },
   "file_extension": ".py",
   "mimetype": "text/x-python",
   "name": "python",
   "nbconvert_exporter": "python",
   "pygments_lexer": "ipython3",
   "version": "3.8.0"
  }
 },
 "nbformat": 4,
 "nbformat_minor": 5
}
