{
 "cells": [
  {
   "cell_type": "markdown",
   "id": "903f220a",
   "metadata": {},
   "source": [
    "# Advanced Machine Learning for NLP and Text Processing\n",
    "## Project 1 : OpenFoodFacts"
   ]
  },
  {
   "cell_type": "markdown",
   "id": "0e9d2fa3",
   "metadata": {},
   "source": [
    "### Cleaning dataset"
   ]
  },
  {
   "cell_type": "code",
   "execution_count": 1,
   "id": "5ea9c500",
   "metadata": {},
   "outputs": [],
   "source": [
    "import warnings\n",
    "warnings.filterwarnings('ignore')"
   ]
  },
  {
   "cell_type": "code",
   "execution_count": 2,
   "id": "004229f8",
   "metadata": {},
   "outputs": [],
   "source": [
    "# Import libraries\n",
    "\n",
    "from collections import Counter\n",
    "from deep_translator import GoogleTranslator\n",
    "from langdetect import detect\n",
    "import nltk\n",
    "from nltk.metrics import *\n",
    "from nltk.stem import PorterStemmer\n",
    "from nltk.tokenize import RegexpTokenizer\n",
    "import pandas as pd\n",
    "import re\n",
    "from spellchecker import SpellChecker\n",
    "import time"
   ]
  },
  {
   "cell_type": "code",
   "execution_count": 3,
   "id": "a33cbd00",
   "metadata": {},
   "outputs": [
    {
     "name": "stderr",
     "output_type": "stream",
     "text": [
      "[nltk_data] Downloading package words to\n",
      "[nltk_data]     C:\\Users\\cheic\\AppData\\Roaming\\nltk_data...\n",
      "[nltk_data]   Package words is already up-to-date!\n"
     ]
    },
    {
     "data": {
      "text/plain": [
       "True"
      ]
     },
     "execution_count": 3,
     "metadata": {},
     "output_type": "execute_result"
    }
   ],
   "source": [
    "nltk.download('words')"
   ]
  },
  {
   "cell_type": "code",
   "execution_count": 4,
   "id": "39a637ef",
   "metadata": {},
   "outputs": [],
   "source": [
    "def load_sample(start_range=1, end_range=5, PATH='./datasets/'):\n",
    "    start = time.time()\n",
    "\n",
    "    splitted_datasets = []\n",
    "\n",
    "    for sample in range(start_range, end_range+1):\n",
    "        start_load = time.time()\n",
    "\n",
    "        dataset = pd.read_csv(\n",
    "            PATH + 'openfoodfacts_part' + str(sample)+'.csv',\n",
    "            sep='\\t')\n",
    "        \n",
    "        end_load = time.time()\n",
    "\n",
    "        print(f'Sample {sample} : {end_load - start_load} sec.')\n",
    "\n",
    "        splitted_datasets.append(dataset)\n",
    "\n",
    "    end = time.time()\n",
    "\n",
    "    print('-'*20)\n",
    "    print(f'Load {end_range - start_range + 1} samples : {end - start} sec.')\n",
    "    \n",
    "    df = pd.concat(splitted_datasets)\n",
    "    print(f'Dataset before removing duplicates : {df.shape[0]} entries')\n",
    "    \n",
    "    df = df.drop_duplicates()\n",
    "    print(f'Dataset after removing duplicates : {df.shape[0]} entries')\n",
    "    return df"
   ]
  },
  {
   "cell_type": "code",
   "execution_count": 5,
   "id": "7139829d",
   "metadata": {},
   "outputs": [],
   "source": [
    "def delete_empty_columns(dataset, rate=0.8):\n",
    "    columns_to_drop = ['Unnamed: 0', 'url', 'code', 'creator', 'created_t', 'created_datetime', 'last_modified_t',\n",
    "                       'last_modified_datetime', 'abbreviated_product_name', 'generic_name', 'packaging', \n",
    "                       'packaging_tags', 'packaging_text', 'brands', 'brands_tags', 'brand_owner', 'categories', 'categories_en', 'origins',\n",
    "                       'origins_en', 'manufacturing_places', 'labels', 'labels_en', 'emb_codes', 'emb_codes_tags', 'countries', 'countries_tags', 'countries_en',\n",
    "                       'first_packaging_code_geo', 'cities', 'purchase_places', 'stores', 'countries', 'countries_en', \n",
    "                       'traces', 'traces_en', 'allergens_en', 'serving_size', 'serving_quantity', 'additives', \n",
    "                       'additives_en', 'ingredients_from_palm_oil', 'ingredients_that_may_be_from_palm_oil', 'ingredients_from_palm_oil_n', 'ingredients_that_may_be_from_palm_oil_n', \n",
    "                       'states', 'states_tags', 'states_en', 'main_category_en', 'image_small_url', 'image_url', \n",
    "                       'image_ingredients_url', 'image_ingredients_small_url', 'image_nutrition_url', \n",
    "                       'image_nutrition_small_url']\n",
    "\n",
    "    for col in dataset.columns:\n",
    "        if dataset[col].isna().sum() / len(dataset) > rate:\n",
    "            columns_to_drop.append(col)\n",
    "\n",
    "    return delete_specific_columns(dataset, columns_to_drop=columns_to_drop)"
   ]
  },
  {
   "cell_type": "code",
   "execution_count": 6,
   "id": "fe3fcb1f",
   "metadata": {},
   "outputs": [],
   "source": [
    "def delete_specific_columns(dataset, columns_to_drop=[]):\n",
    "    columns_to_keep = ['product_name', 'categories_tags', 'ingredients_text', 'additives_tags',\n",
    "                       'nutriscore_score', 'nutriscore_grade', 'nova_group', 'pnns_groups_1',\n",
    "                       'pnns_groups_2', 'main_category', 'energy-kcal_100g', 'energy_100g',\n",
    "                       'fat_100g', 'saturated-fat_100g', 'carbohydrates_100g', 'sugars_100g', 'fiber_100g', 'proteins_100g',\n",
    "                       'salt_100g']\n",
    "    cols = []\n",
    "    for column in columns_to_drop:\n",
    "        if column in dataset.columns and column not in columns_to_keep:\n",
    "            cols.append(column)\n",
    "\n",
    "    print(f'Delete {len(cols)} columns.')\n",
    "\n",
    "    return dataset.drop(columns=cols)"
   ]
  },
  {
   "cell_type": "code",
   "execution_count": 7,
   "id": "c7be24bc",
   "metadata": {},
   "outputs": [],
   "source": [
    "def correct_enconding_characters(x):\n",
    "    x = x.replace('\\_', '')\n",
    "    x = x.replace('\\%', '')\n",
    "    x = x.replace('\\*', '')\n",
    "    \n",
    "    x = clean_ingredients_list(x)\n",
    "\n",
    "    x = x.lower()\n",
    "    x = x.strip()\n",
    "\n",
    "    x = x.replace('ã©', 'é')\n",
    "    x = x.replace('&quot;', '')\n",
    "    x = x.replace('cã¨', 'è')\n",
    "    x = x.replace('à¨', 'ê')\n",
    "    x = x.replace('ã', 'à')\n",
    "    x = x.replace('ã´', 'ô')\n",
    "    x = x.replace('à´', 'ô')\n",
    "    x = x.replace('à¢', 'â')\n",
    "    x = x.replace('à¯', 'ï')\n",
    "    x = x.replace('à®', 'î')\n",
    "    x = x.replace('å', 'oe')\n",
    "    x = x.replace('â', '\\'')\n",
    "\n",
    "    return x"
   ]
  },
  {
   "cell_type": "code",
   "execution_count": 8,
   "id": "be209f28",
   "metadata": {},
   "outputs": [],
   "source": [
    "def clean_ingredients_list(x):\n",
    "    # Delete additives as there is already an 'additive' column\n",
    "    # Delete vitamins as we are not going to use them\n",
    "    x = re.sub('(b|e){1}\\d*\\w', '', x)\n",
    "\n",
    "    # Delete quantities\n",
    "    x = re.sub('(\\d)+([a-zA-Z])+', '', x)\n",
    "    # Delete percentages\n",
    "    x = re.sub('\\d+\\%', '', x)\n",
    "\n",
    "    return x"
   ]
  },
  {
   "cell_type": "code",
   "execution_count": 15,
   "id": "5bfcc92d",
   "metadata": {},
   "outputs": [],
   "source": [
    "def clean_nutrition_facts_for_100g(x):\n",
    "    if pd.isna(x):\n",
    "        x = 0\n",
    "    elif x > 100: \n",
    "        x = 100\n",
    "    elif x < 0: \n",
    "        x = 0\n",
    "    else: \n",
    "        x = x \n",
    "    return x"
   ]
  },
  {
   "cell_type": "code",
   "execution_count": 10,
   "id": "4a9306e3",
   "metadata": {},
   "outputs": [
    {
     "name": "stdout",
     "output_type": "stream",
     "text": [
      "Sample 1 : 3.7555084228515625 sec.\n",
      "--------------------\n",
      "Load 1 samples : 3.7565152645111084 sec.\n",
      "Dataset before removing duplicates : 50000 entries\n",
      "Dataset after removing duplicates : 50000 entries\n"
     ]
    }
   ],
   "source": [
    "dataset = load_sample(start_range=1, end_range=1)"
   ]
  },
  {
   "cell_type": "code",
   "execution_count": 11,
   "id": "b10131bf",
   "metadata": {},
   "outputs": [
    {
     "name": "stdout",
     "output_type": "stream",
     "text": [
      "Delete 184 columns.\n"
     ]
    }
   ],
   "source": [
    "df = delete_empty_columns(dataset)"
   ]
  },
  {
   "cell_type": "code",
   "execution_count": 12,
   "id": "2a32d577",
   "metadata": {},
   "outputs": [
    {
     "data": {
      "text/plain": [
       "Index(['product_name', 'categories_tags', 'ingredients_text', 'additives_n',\n",
       "       'additives_tags', 'nutriscore_score', 'nutriscore_grade', 'nova_group',\n",
       "       'pnns_groups_1', 'pnns_groups_2', 'main_category', 'energy-kcal_100g',\n",
       "       'energy_100g', 'fat_100g', 'saturated-fat_100g', 'trans-fat_100g',\n",
       "       'cholesterol_100g', 'carbohydrates_100g', 'sugars_100g', 'fiber_100g',\n",
       "       'proteins_100g', 'salt_100g', 'sodium_100g', 'vitamin-a_100g',\n",
       "       'vitamin-c_100g', 'potassium_100g', 'calcium_100g', 'iron_100g',\n",
       "       'nutrition-score-fr_100g'],\n",
       "      dtype='object')"
      ]
     },
     "execution_count": 12,
     "metadata": {},
     "output_type": "execute_result"
    }
   ],
   "source": [
    "df.columns"
   ]
  },
  {
   "cell_type": "code",
   "execution_count": 13,
   "id": "8e7d1021",
   "metadata": {},
   "outputs": [],
   "source": [
    "df = df.dropna(subset = ['ingredients_text'])\n",
    "df['ingredients_text'] = df['ingredients_text'].apply(correct_enconding_characters)"
   ]
  },
  {
   "cell_type": "code",
   "execution_count": 16,
   "id": "d5299581",
   "metadata": {},
   "outputs": [],
   "source": [
    "# Cleaning nutrition facts\n",
    "df['fat_100g'] = df['fat_100g'].apply(clean_nutrition_facts_for_100g)\n",
    "df['saturated-fat_100g'] = df['saturated-fat_100g'].apply(clean_nutrition_facts_for_100g)\n",
    "df['carbohydrates_100g'] = df['carbohydrates_100g'].apply(clean_nutrition_facts_for_100g)\n",
    "df['sugars_100g'] = df['sugars_100g'].apply(clean_nutrition_facts_for_100g)\n",
    "df['fiber_100g'] = df['fiber_100g'].apply(clean_nutrition_facts_for_100g)\n",
    "df['proteins_100g'] = df['proteins_100g'].apply(clean_nutrition_facts_for_100g)\n",
    "df['salt_100g'] = df['salt_100g'].apply(clean_nutrition_facts_for_100g)"
   ]
  },
  {
   "cell_type": "markdown",
   "id": "f1ad9c04",
   "metadata": {},
   "source": [
    "### Detect language"
   ]
  },
  {
   "cell_type": "code",
   "execution_count": 17,
   "id": "afb200f7",
   "metadata": {},
   "outputs": [],
   "source": [
    "def detect_language(x): \n",
    "    try: \n",
    "        return detect(x)\n",
    "    except : \n",
    "        return \"unknown\""
   ]
  },
  {
   "cell_type": "code",
   "execution_count": 18,
   "id": "bd3cb296",
   "metadata": {},
   "outputs": [
    {
     "name": "stdout",
     "output_type": "stream",
     "text": [
      "Detect language : 980.684273481369 seconds...\n"
     ]
    }
   ],
   "source": [
    "start = time.time()\n",
    "df['language'] = df[\"ingredients_text\"].apply(detect_language)\n",
    "end = time.time()\n",
    "\n",
    "print(f'Detect language : {end - start} seconds...')"
   ]
  },
  {
   "cell_type": "code",
   "execution_count": 19,
   "id": "399e0eb4",
   "metadata": {},
   "outputs": [
    {
     "data": {
      "text/plain": [
       "array(['es', 'fr', 'ca', 'it', 'en', 'ro', 'pl', 'id', 'cy', 'sv', 'tl',\n",
       "       'sq', 'sw', 'hr', 'nl', 'pt', 'th', 'et', 'unknown', 'da', 'de',\n",
       "       'fi', 'sk', 'no', 'lv', 'cs', 'so', 'sl', 'tr', 'ru', 'lt', 'af',\n",
       "       'vi', 'zh-tw', 'ar', 'hu', 'bg', 'zh-cn'], dtype=object)"
      ]
     },
     "execution_count": 19,
     "metadata": {},
     "output_type": "execute_result"
    }
   ],
   "source": [
    "df['language'].unique()"
   ]
  },
  {
   "cell_type": "code",
   "execution_count": 20,
   "id": "fb9126de",
   "metadata": {},
   "outputs": [
    {
     "data": {
      "text/plain": [
       "8971"
      ]
     },
     "execution_count": 20,
     "metadata": {},
     "output_type": "execute_result"
    }
   ],
   "source": [
    "df.shape[0] - len(df[df['language'] == 'en'])"
   ]
  },
  {
   "cell_type": "code",
   "execution_count": 21,
   "id": "fda36186",
   "metadata": {},
   "outputs": [],
   "source": [
    "df_ingredients_en = df[df['language'] == 'en']"
   ]
  },
  {
   "cell_type": "code",
   "execution_count": 22,
   "id": "a184c00f",
   "metadata": {},
   "outputs": [
    {
     "name": "stdout",
     "output_type": "stream",
     "text": [
      "LOSS : 23.177883994315984 %\n"
     ]
    }
   ],
   "source": [
    "print(f\"LOSS : {(1 - (df_ingredients_en.shape[0] / df.shape[0])) * 100} %\")"
   ]
  },
  {
   "cell_type": "markdown",
   "id": "ed117643",
   "metadata": {},
   "source": [
    "### Translate ingredients into English"
   ]
  },
  {
   "cell_type": "code",
   "execution_count": 23,
   "id": "e6c231f3",
   "metadata": {},
   "outputs": [],
   "source": [
    "# translator = GoogleTranslator(source='auto', target='en')"
   ]
  },
  {
   "cell_type": "code",
   "execution_count": 24,
   "id": "6074881d",
   "metadata": {},
   "outputs": [],
   "source": [
    "def translate(x): \n",
    "    try:\n",
    "        return translator.translate(x)\n",
    "    except: \n",
    "        return \"Cannot translate\""
   ]
  },
  {
   "cell_type": "code",
   "execution_count": 25,
   "id": "b0fa3f04",
   "metadata": {},
   "outputs": [],
   "source": [
    "# start = time.time()\n",
    "# for i, lang in enumerate(df['language']): \n",
    "#     if lang == 'en': \n",
    "#         df.at[i, 'ingredients_en'] = df['ingredients_text'].iloc[i]\n",
    "#     else : \n",
    "#         df.at[i, 'ingredients_en'] = translate(df['ingredients_text'].iloc[i])\n",
    "# end = time.time()\n",
    "\n",
    "# print(f'Translate ingredients : {end - start} seconds...')"
   ]
  },
  {
   "cell_type": "markdown",
   "id": "9dc7d129",
   "metadata": {},
   "source": [
    "### Tokenize ingredients"
   ]
  },
  {
   "cell_type": "code",
   "execution_count": 26,
   "id": "b7858d00",
   "metadata": {},
   "outputs": [],
   "source": [
    "tokenizer = RegexpTokenizer(\"[a-z\\'\\-]+\")\n",
    "df_ingredients_en[\"ingredients_token\"] = df_ingredients_en[\"ingredients_text\"].apply(lambda x : tokenizer.tokenize(x))"
   ]
  },
  {
   "cell_type": "markdown",
   "id": "f3fe12d9",
   "metadata": {},
   "source": [
    "### Handle mistakes\n",
    "#### First method : using NLTK's corpus vocabulary"
   ]
  },
  {
   "cell_type": "code",
   "execution_count": 27,
   "id": "31859ac3",
   "metadata": {},
   "outputs": [],
   "source": [
    "english_vocab = set(w.lower() for w in nltk.corpus.words.words())\n",
    "ingredient_list = [_ for list in df_ingredients_en[\"ingredients_token\"].to_list() for _ in list]\n",
    "# Sort ingredient list\n",
    "ingredient_list.sort()\n",
    "set_ingredients = set(ingredient_list)"
   ]
  },
  {
   "cell_type": "code",
   "execution_count": 28,
   "id": "ebdbcefe",
   "metadata": {},
   "outputs": [
    {
     "data": {
      "text/html": [
       "<div>\n",
       "<style scoped>\n",
       "    .dataframe tbody tr th:only-of-type {\n",
       "        vertical-align: middle;\n",
       "    }\n",
       "\n",
       "    .dataframe tbody tr th {\n",
       "        vertical-align: top;\n",
       "    }\n",
       "\n",
       "    .dataframe thead th {\n",
       "        text-align: right;\n",
       "    }\n",
       "</style>\n",
       "<table border=\"1\" class=\"dataframe\">\n",
       "  <thead>\n",
       "    <tr style=\"text-align: right;\">\n",
       "      <th></th>\n",
       "      <th>Initial</th>\n",
       "    </tr>\n",
       "  </thead>\n",
       "  <tbody>\n",
       "    <tr>\n",
       "      <th>0</th>\n",
       "      <td>contains</td>\n",
       "    </tr>\n",
       "    <tr>\n",
       "      <th>1</th>\n",
       "      <td>nono</td>\n",
       "    </tr>\n",
       "    <tr>\n",
       "      <th>2</th>\n",
       "      <td>soup</td>\n",
       "    </tr>\n",
       "    <tr>\n",
       "      <th>3</th>\n",
       "      <td>mononitr</td>\n",
       "    </tr>\n",
       "    <tr>\n",
       "      <th>4</th>\n",
       "      <td>vannam</td>\n",
       "    </tr>\n",
       "    <tr>\n",
       "      <th>...</th>\n",
       "      <td>...</td>\n",
       "    </tr>\n",
       "    <tr>\n",
       "      <th>10602</th>\n",
       "      <td>di-glcid</td>\n",
       "    </tr>\n",
       "    <tr>\n",
       "      <th>10603</th>\n",
       "      <td>hvp</td>\n",
       "    </tr>\n",
       "    <tr>\n",
       "      <th>10604</th>\n",
       "      <td>rophosphate</td>\n",
       "    </tr>\n",
       "    <tr>\n",
       "      <th>10605</th>\n",
       "      <td>sanitatpiol</td>\n",
       "    </tr>\n",
       "    <tr>\n",
       "      <th>10606</th>\n",
       "      <td>d-pantothate</td>\n",
       "    </tr>\n",
       "  </tbody>\n",
       "</table>\n",
       "<p>10607 rows × 1 columns</p>\n",
       "</div>"
      ],
      "text/plain": [
       "            Initial\n",
       "0          contains\n",
       "1              nono\n",
       "2              soup\n",
       "3          mononitr\n",
       "4            vannam\n",
       "...             ...\n",
       "10602      di-glcid\n",
       "10603           hvp\n",
       "10604   rophosphate\n",
       "10605   sanitatpiol\n",
       "10606  d-pantothate\n",
       "\n",
       "[10607 rows x 1 columns]"
      ]
     },
     "execution_count": 28,
     "metadata": {},
     "output_type": "execute_result"
    }
   ],
   "source": [
    "df_spelling_ingredients = pd.DataFrame(set_ingredients, columns=['Initial'])\n",
    "df_spelling_ingredients"
   ]
  },
  {
   "cell_type": "code",
   "execution_count": null,
   "id": "2dc2d93e",
   "metadata": {},
   "outputs": [],
   "source": [
    "corrects = []\n",
    "start_time = time.time()\n",
    "for word in list(set_ingredients):\n",
    "    list_distance = list()\n",
    "    if word not in english_vocab: \n",
    "        for _ in english_vocab:\n",
    "            list_distance.append(edit_distance(_, word))\n",
    "        correct = list(english_vocab)[list_distance.index(min(list_distance))]\n",
    "        corrects.append(correct)\n",
    "        print(f\"{word} ==> {correct}\", flush = True)\n",
    "end_time = time.time()"
   ]
  },
  {
   "cell_type": "code",
   "execution_count": null,
   "id": "f17d9045",
   "metadata": {},
   "outputs": [],
   "source": [
    "df_spelling_ingredients['NLTK'] = corrects       "
   ]
  },
  {
   "cell_type": "code",
   "execution_count": null,
   "id": "3f5a11d7",
   "metadata": {},
   "outputs": [],
   "source": [
    "print(f\"Spelling mistakes - Method 1 : {end_time - start_time} seconds.\")"
   ]
  },
  {
   "cell_type": "markdown",
   "id": "fe8c9e73",
   "metadata": {},
   "source": [
    "#### Second method : using SpellChecker"
   ]
  },
  {
   "cell_type": "code",
   "execution_count": null,
   "id": "6d8ed338",
   "metadata": {},
   "outputs": [],
   "source": [
    "spell = SpellChecker()"
   ]
  },
  {
   "cell_type": "code",
   "execution_count": null,
   "id": "f3d4b91b",
   "metadata": {},
   "outputs": [],
   "source": [
    "def spell_check_levenshtein(x): \n",
    "    misspelled = spell.unknown([x])\n",
    "    if len(misspelled):\n",
    "        x = spell.correction(list(misspelled)[0])\n",
    "    return x"
   ]
  },
  {
   "cell_type": "code",
   "execution_count": null,
   "id": "7e432f9d",
   "metadata": {},
   "outputs": [],
   "source": [
    "start_time = time.time()\n",
    "df_spelling_ingredients['levenshtein'] = df_spelling_ingredients['Initial'].apply(spell_check_levenshtein)       \n",
    "end_time = time.time()"
   ]
  },
  {
   "cell_type": "code",
   "execution_count": null,
   "id": "b6d65239",
   "metadata": {},
   "outputs": [],
   "source": [
    "print(f\"Spelling mistakes - Method 2 : {end_time - start_time} seconds.\")"
   ]
  },
  {
   "cell_type": "markdown",
   "id": "62c64a36",
   "metadata": {},
   "source": [
    "#### Third method : comparing words in the columns"
   ]
  },
  {
   "cell_type": "code",
   "execution_count": null,
   "id": "a6411716",
   "metadata": {},
   "outputs": [],
   "source": [
    "# Count occurences\n",
    "occ = Counter(ingredient_list)"
   ]
  },
  {
   "cell_type": "code",
   "execution_count": null,
   "id": "11db0649",
   "metadata": {},
   "outputs": [],
   "source": [
    "occ"
   ]
  },
  {
   "cell_type": "code",
   "execution_count": null,
   "id": "f94b3035",
   "metadata": {},
   "outputs": [],
   "source": [
    "len(occ)"
   ]
  },
  {
   "cell_type": "markdown",
   "id": "54e6443e",
   "metadata": {},
   "source": [
    "#### Third method with stemming"
   ]
  },
  {
   "cell_type": "code",
   "execution_count": null,
   "id": "9b112ff2",
   "metadata": {},
   "outputs": [],
   "source": [
    "ps = PorterStemmer()"
   ]
  },
  {
   "cell_type": "code",
   "execution_count": null,
   "id": "1a1762a5",
   "metadata": {},
   "outputs": [],
   "source": [
    "ingredients_stemmed = []\n",
    "for ingredient in ingredient_list: \n",
    "    try: \n",
    "        ingredients_stemmed.append(ps.stem(ingredient))\n",
    "    except: \n",
    "        ingredients_stemmed.append(\"*\"+ingredient+\"*\")"
   ]
  },
  {
   "cell_type": "code",
   "execution_count": null,
   "id": "dbd025f7",
   "metadata": {},
   "outputs": [],
   "source": [
    "occ_stemmed = Counter(ingredients_stemmed)"
   ]
  },
  {
   "cell_type": "code",
   "execution_count": null,
   "id": "28a12a97",
   "metadata": {},
   "outputs": [],
   "source": [
    "occ_stemmed"
   ]
  },
  {
   "cell_type": "code",
   "execution_count": null,
   "id": "ee69999e",
   "metadata": {},
   "outputs": [],
   "source": [
    "len(occ_stemmed)"
   ]
  }
 ],
 "metadata": {
  "kernelspec": {
   "display_name": "Python 3",
   "language": "python",
   "name": "python3"
  },
  "language_info": {
   "codemirror_mode": {
    "name": "ipython",
    "version": 3
   },
   "file_extension": ".py",
   "mimetype": "text/x-python",
   "name": "python",
   "nbconvert_exporter": "python",
   "pygments_lexer": "ipython3",
   "version": "3.9.7"
  }
 },
 "nbformat": 4,
 "nbformat_minor": 5
}
